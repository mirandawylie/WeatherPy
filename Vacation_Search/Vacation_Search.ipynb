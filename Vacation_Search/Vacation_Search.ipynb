{
 "cells": [
  {
   "cell_type": "markdown",
   "metadata": {},
   "source": [
    "## Deliverable 2. Create a Customer Travel Destinations Map."
   ]
  },
  {
   "cell_type": "code",
   "execution_count": 4,
   "metadata": {},
   "outputs": [],
   "source": [
    "# Dependencies and Setup\n",
    "import pandas as pd\n",
    "import requests\n",
    "import gmaps\n",
    "\n",
    "# Import API key\n",
    "from config import g_key\n",
    "\n",
    "# Configure gmaps API key\n",
    "gmaps.configure(api_key=g_key)"
   ]
  },
  {
   "cell_type": "code",
   "execution_count": 20,
   "metadata": {},
   "outputs": [
    {
     "output_type": "execute_result",
     "data": {
      "text/plain": [
       "   City_ID         City Country      Lat       Lng  Max Temp  Humidity  \\\n",
       "0        0  Grand-Santi      GF   4.2500  -54.3833     85.46        61   \n",
       "1        1      Teguise      ES  29.0605  -13.5640     75.20        53   \n",
       "2        2      Ushuaia      AR -54.8000  -68.3000     48.20        46   \n",
       "3        3      Estevan      CA  49.1334 -102.9842     35.60        93   \n",
       "4        4   Sao Filipe      CV  14.8961  -24.4956     77.52        60   \n",
       "\n",
       "   Cloudiness  Wind Speed Current Description  \n",
       "0         100        3.09     overcast clouds  \n",
       "1          20       11.50          few clouds  \n",
       "2           0        5.75           clear sky  \n",
       "3          90       18.41     overcast clouds  \n",
       "4           1        6.87           clear sky  "
      ],
      "text/html": "<div>\n<style scoped>\n    .dataframe tbody tr th:only-of-type {\n        vertical-align: middle;\n    }\n\n    .dataframe tbody tr th {\n        vertical-align: top;\n    }\n\n    .dataframe thead th {\n        text-align: right;\n    }\n</style>\n<table border=\"1\" class=\"dataframe\">\n  <thead>\n    <tr style=\"text-align: right;\">\n      <th></th>\n      <th>City_ID</th>\n      <th>City</th>\n      <th>Country</th>\n      <th>Lat</th>\n      <th>Lng</th>\n      <th>Max Temp</th>\n      <th>Humidity</th>\n      <th>Cloudiness</th>\n      <th>Wind Speed</th>\n      <th>Current Description</th>\n    </tr>\n  </thead>\n  <tbody>\n    <tr>\n      <th>0</th>\n      <td>0</td>\n      <td>Grand-Santi</td>\n      <td>GF</td>\n      <td>4.2500</td>\n      <td>-54.3833</td>\n      <td>85.46</td>\n      <td>61</td>\n      <td>100</td>\n      <td>3.09</td>\n      <td>overcast clouds</td>\n    </tr>\n    <tr>\n      <th>1</th>\n      <td>1</td>\n      <td>Teguise</td>\n      <td>ES</td>\n      <td>29.0605</td>\n      <td>-13.5640</td>\n      <td>75.20</td>\n      <td>53</td>\n      <td>20</td>\n      <td>11.50</td>\n      <td>few clouds</td>\n    </tr>\n    <tr>\n      <th>2</th>\n      <td>2</td>\n      <td>Ushuaia</td>\n      <td>AR</td>\n      <td>-54.8000</td>\n      <td>-68.3000</td>\n      <td>48.20</td>\n      <td>46</td>\n      <td>0</td>\n      <td>5.75</td>\n      <td>clear sky</td>\n    </tr>\n    <tr>\n      <th>3</th>\n      <td>3</td>\n      <td>Estevan</td>\n      <td>CA</td>\n      <td>49.1334</td>\n      <td>-102.9842</td>\n      <td>35.60</td>\n      <td>93</td>\n      <td>90</td>\n      <td>18.41</td>\n      <td>overcast clouds</td>\n    </tr>\n    <tr>\n      <th>4</th>\n      <td>4</td>\n      <td>Sao Filipe</td>\n      <td>CV</td>\n      <td>14.8961</td>\n      <td>-24.4956</td>\n      <td>77.52</td>\n      <td>60</td>\n      <td>1</td>\n      <td>6.87</td>\n      <td>clear sky</td>\n    </tr>\n  </tbody>\n</table>\n</div>"
     },
     "metadata": {},
     "execution_count": 20
    }
   ],
   "source": [
    "# 1. Import the WeatherPy_database.csv file. \n",
    "city_data_df = pd.read_csv(\"resources/WeatherPy_database.csv\")\n",
    "city_data_df.head()"
   ]
  },
  {
   "cell_type": "code",
   "execution_count": 6,
   "metadata": {},
   "outputs": [],
   "source": [
    "# 2. Prompt the user to enter minimum and maximum temperature criteria \n",
    "min_temp = float(input(\"What is the minimum temperature you would like for your trip? \"))\n",
    "max_temp = float(input(\"What is the maximum temperature you would like for your trip? \"))"
   ]
  },
  {
   "cell_type": "code",
   "execution_count": 7,
   "metadata": {},
   "outputs": [
    {
     "output_type": "execute_result",
     "data": {
      "text/plain": [
       "    City_ID            City Country      Lat       Lng  Max Temp  Humidity  \\\n",
       "0         0     Grand-Santi      GF   4.2500  -54.3833     85.46        61   \n",
       "1         1         Teguise      ES  29.0605  -13.5640     75.20        53   \n",
       "4         4      Sao Filipe      CV  14.8961  -24.4956     77.52        60   \n",
       "5         5       Mahebourg      MU -20.4081   57.7000     80.60        78   \n",
       "6         6      Butaritari      KI   3.0707  172.7902     81.00        77   \n",
       "11       11      Banyuwangi      ID  -8.2325  114.3576     76.15        92   \n",
       "23       23          Labrea      BR  -7.2586  -64.7981     86.05        68   \n",
       "26       26  Port Elizabeth      ZA -33.9180   25.5701     71.60        73   \n",
       "27       27          Atuona      PF  -9.8000 -139.0333     79.81        79   \n",
       "28       28         Rikitea      PF -23.1203 -134.9692     78.10        75   \n",
       "\n",
       "    Cloudiness  Wind Speed Current Description  \n",
       "0          100        3.09     overcast clouds  \n",
       "1           20       11.50          few clouds  \n",
       "4            1        6.87           clear sky  \n",
       "5           40        6.91          light rain  \n",
       "6           57        9.19          light rain  \n",
       "11          13        2.26          few clouds  \n",
       "23          89        2.73     overcast clouds  \n",
       "26           0        8.05           clear sky  \n",
       "27          43       17.34          light rain  \n",
       "28           9       10.31           clear sky  "
      ],
      "text/html": "<div>\n<style scoped>\n    .dataframe tbody tr th:only-of-type {\n        vertical-align: middle;\n    }\n\n    .dataframe tbody tr th {\n        vertical-align: top;\n    }\n\n    .dataframe thead th {\n        text-align: right;\n    }\n</style>\n<table border=\"1\" class=\"dataframe\">\n  <thead>\n    <tr style=\"text-align: right;\">\n      <th></th>\n      <th>City_ID</th>\n      <th>City</th>\n      <th>Country</th>\n      <th>Lat</th>\n      <th>Lng</th>\n      <th>Max Temp</th>\n      <th>Humidity</th>\n      <th>Cloudiness</th>\n      <th>Wind Speed</th>\n      <th>Current Description</th>\n    </tr>\n  </thead>\n  <tbody>\n    <tr>\n      <th>0</th>\n      <td>0</td>\n      <td>Grand-Santi</td>\n      <td>GF</td>\n      <td>4.2500</td>\n      <td>-54.3833</td>\n      <td>85.46</td>\n      <td>61</td>\n      <td>100</td>\n      <td>3.09</td>\n      <td>overcast clouds</td>\n    </tr>\n    <tr>\n      <th>1</th>\n      <td>1</td>\n      <td>Teguise</td>\n      <td>ES</td>\n      <td>29.0605</td>\n      <td>-13.5640</td>\n      <td>75.20</td>\n      <td>53</td>\n      <td>20</td>\n      <td>11.50</td>\n      <td>few clouds</td>\n    </tr>\n    <tr>\n      <th>4</th>\n      <td>4</td>\n      <td>Sao Filipe</td>\n      <td>CV</td>\n      <td>14.8961</td>\n      <td>-24.4956</td>\n      <td>77.52</td>\n      <td>60</td>\n      <td>1</td>\n      <td>6.87</td>\n      <td>clear sky</td>\n    </tr>\n    <tr>\n      <th>5</th>\n      <td>5</td>\n      <td>Mahebourg</td>\n      <td>MU</td>\n      <td>-20.4081</td>\n      <td>57.7000</td>\n      <td>80.60</td>\n      <td>78</td>\n      <td>40</td>\n      <td>6.91</td>\n      <td>light rain</td>\n    </tr>\n    <tr>\n      <th>6</th>\n      <td>6</td>\n      <td>Butaritari</td>\n      <td>KI</td>\n      <td>3.0707</td>\n      <td>172.7902</td>\n      <td>81.00</td>\n      <td>77</td>\n      <td>57</td>\n      <td>9.19</td>\n      <td>light rain</td>\n    </tr>\n    <tr>\n      <th>11</th>\n      <td>11</td>\n      <td>Banyuwangi</td>\n      <td>ID</td>\n      <td>-8.2325</td>\n      <td>114.3576</td>\n      <td>76.15</td>\n      <td>92</td>\n      <td>13</td>\n      <td>2.26</td>\n      <td>few clouds</td>\n    </tr>\n    <tr>\n      <th>23</th>\n      <td>23</td>\n      <td>Labrea</td>\n      <td>BR</td>\n      <td>-7.2586</td>\n      <td>-64.7981</td>\n      <td>86.05</td>\n      <td>68</td>\n      <td>89</td>\n      <td>2.73</td>\n      <td>overcast clouds</td>\n    </tr>\n    <tr>\n      <th>26</th>\n      <td>26</td>\n      <td>Port Elizabeth</td>\n      <td>ZA</td>\n      <td>-33.9180</td>\n      <td>25.5701</td>\n      <td>71.60</td>\n      <td>73</td>\n      <td>0</td>\n      <td>8.05</td>\n      <td>clear sky</td>\n    </tr>\n    <tr>\n      <th>27</th>\n      <td>27</td>\n      <td>Atuona</td>\n      <td>PF</td>\n      <td>-9.8000</td>\n      <td>-139.0333</td>\n      <td>79.81</td>\n      <td>79</td>\n      <td>43</td>\n      <td>17.34</td>\n      <td>light rain</td>\n    </tr>\n    <tr>\n      <th>28</th>\n      <td>28</td>\n      <td>Rikitea</td>\n      <td>PF</td>\n      <td>-23.1203</td>\n      <td>-134.9692</td>\n      <td>78.10</td>\n      <td>75</td>\n      <td>9</td>\n      <td>10.31</td>\n      <td>clear sky</td>\n    </tr>\n  </tbody>\n</table>\n</div>"
     },
     "metadata": {},
     "execution_count": 7
    }
   ],
   "source": [
    "# 3. Filter the city_data_df DataFrame using the input statements to create a new DataFrame using the loc method.\n",
    "# Filter the dataset to find the cities that fit the criteria.\n",
    "preferred_cities_df = city_data_df.loc[(city_data_df[\"Max Temp\"] <= max_temp) & \\\n",
    "                                       (city_data_df[\"Max Temp\"] >= min_temp)]\n",
    "preferred_cities_df.head(10)"
   ]
  },
  {
   "cell_type": "code",
   "execution_count": 8,
   "metadata": {},
   "outputs": [
    {
     "output_type": "execute_result",
     "data": {
      "text/plain": [
       "City_ID                223\n",
       "City                   223\n",
       "Country                222\n",
       "Lat                    223\n",
       "Lng                    223\n",
       "Max Temp               223\n",
       "Humidity               223\n",
       "Cloudiness             223\n",
       "Wind Speed             223\n",
       "Current Description    223\n",
       "dtype: int64"
      ]
     },
     "metadata": {},
     "execution_count": 8
    }
   ],
   "source": [
    "# 4a. Determine if there are any empty rows.\n",
    "preferred_cities_df.count()"
   ]
  },
  {
   "cell_type": "code",
   "execution_count": 9,
   "metadata": {},
   "outputs": [
    {
     "output_type": "execute_result",
     "data": {
      "text/plain": [
       "     City_ID          City Country      Lat       Lng  Max Temp  Humidity  \\\n",
       "0          0   Grand-Santi      GF   4.2500  -54.3833     85.46        61   \n",
       "1          1       Teguise      ES  29.0605  -13.5640     75.20        53   \n",
       "4          4    Sao Filipe      CV  14.8961  -24.4956     77.52        60   \n",
       "5          5     Mahebourg      MU -20.4081   57.7000     80.60        78   \n",
       "6          6    Butaritari      KI   3.0707  172.7902     81.00        77   \n",
       "..       ...           ...     ...      ...       ...       ...       ...   \n",
       "550      550        Touros      BR  -5.1989  -35.4608     87.80        66   \n",
       "551      551         Nizwa      OM  22.9333   57.5333     85.03        30   \n",
       "553      553      Mwandiga      TZ  -4.8300   29.6581     76.15        75   \n",
       "557      557         Asyut      EG  27.1810   31.1837     71.60        37   \n",
       "559      559  Saint-Joseph      RE -21.3667   55.6167     78.80        78   \n",
       "\n",
       "     Cloudiness  Wind Speed Current Description  \n",
       "0           100        3.09     overcast clouds  \n",
       "1            20       11.50          few clouds  \n",
       "4             1        6.87           clear sky  \n",
       "5            40        6.91          light rain  \n",
       "6            57        9.19          light rain  \n",
       "..          ...         ...                 ...  \n",
       "550          75       12.66       broken clouds  \n",
       "551          79        5.21       broken clouds  \n",
       "553          92        0.51          light rain  \n",
       "557           0       18.41           clear sky  \n",
       "559          90        4.61          light rain  \n",
       "\n",
       "[222 rows x 10 columns]"
      ],
      "text/html": "<div>\n<style scoped>\n    .dataframe tbody tr th:only-of-type {\n        vertical-align: middle;\n    }\n\n    .dataframe tbody tr th {\n        vertical-align: top;\n    }\n\n    .dataframe thead th {\n        text-align: right;\n    }\n</style>\n<table border=\"1\" class=\"dataframe\">\n  <thead>\n    <tr style=\"text-align: right;\">\n      <th></th>\n      <th>City_ID</th>\n      <th>City</th>\n      <th>Country</th>\n      <th>Lat</th>\n      <th>Lng</th>\n      <th>Max Temp</th>\n      <th>Humidity</th>\n      <th>Cloudiness</th>\n      <th>Wind Speed</th>\n      <th>Current Description</th>\n    </tr>\n  </thead>\n  <tbody>\n    <tr>\n      <th>0</th>\n      <td>0</td>\n      <td>Grand-Santi</td>\n      <td>GF</td>\n      <td>4.2500</td>\n      <td>-54.3833</td>\n      <td>85.46</td>\n      <td>61</td>\n      <td>100</td>\n      <td>3.09</td>\n      <td>overcast clouds</td>\n    </tr>\n    <tr>\n      <th>1</th>\n      <td>1</td>\n      <td>Teguise</td>\n      <td>ES</td>\n      <td>29.0605</td>\n      <td>-13.5640</td>\n      <td>75.20</td>\n      <td>53</td>\n      <td>20</td>\n      <td>11.50</td>\n      <td>few clouds</td>\n    </tr>\n    <tr>\n      <th>4</th>\n      <td>4</td>\n      <td>Sao Filipe</td>\n      <td>CV</td>\n      <td>14.8961</td>\n      <td>-24.4956</td>\n      <td>77.52</td>\n      <td>60</td>\n      <td>1</td>\n      <td>6.87</td>\n      <td>clear sky</td>\n    </tr>\n    <tr>\n      <th>5</th>\n      <td>5</td>\n      <td>Mahebourg</td>\n      <td>MU</td>\n      <td>-20.4081</td>\n      <td>57.7000</td>\n      <td>80.60</td>\n      <td>78</td>\n      <td>40</td>\n      <td>6.91</td>\n      <td>light rain</td>\n    </tr>\n    <tr>\n      <th>6</th>\n      <td>6</td>\n      <td>Butaritari</td>\n      <td>KI</td>\n      <td>3.0707</td>\n      <td>172.7902</td>\n      <td>81.00</td>\n      <td>77</td>\n      <td>57</td>\n      <td>9.19</td>\n      <td>light rain</td>\n    </tr>\n    <tr>\n      <th>...</th>\n      <td>...</td>\n      <td>...</td>\n      <td>...</td>\n      <td>...</td>\n      <td>...</td>\n      <td>...</td>\n      <td>...</td>\n      <td>...</td>\n      <td>...</td>\n      <td>...</td>\n    </tr>\n    <tr>\n      <th>550</th>\n      <td>550</td>\n      <td>Touros</td>\n      <td>BR</td>\n      <td>-5.1989</td>\n      <td>-35.4608</td>\n      <td>87.80</td>\n      <td>66</td>\n      <td>75</td>\n      <td>12.66</td>\n      <td>broken clouds</td>\n    </tr>\n    <tr>\n      <th>551</th>\n      <td>551</td>\n      <td>Nizwa</td>\n      <td>OM</td>\n      <td>22.9333</td>\n      <td>57.5333</td>\n      <td>85.03</td>\n      <td>30</td>\n      <td>79</td>\n      <td>5.21</td>\n      <td>broken clouds</td>\n    </tr>\n    <tr>\n      <th>553</th>\n      <td>553</td>\n      <td>Mwandiga</td>\n      <td>TZ</td>\n      <td>-4.8300</td>\n      <td>29.6581</td>\n      <td>76.15</td>\n      <td>75</td>\n      <td>92</td>\n      <td>0.51</td>\n      <td>light rain</td>\n    </tr>\n    <tr>\n      <th>557</th>\n      <td>557</td>\n      <td>Asyut</td>\n      <td>EG</td>\n      <td>27.1810</td>\n      <td>31.1837</td>\n      <td>71.60</td>\n      <td>37</td>\n      <td>0</td>\n      <td>18.41</td>\n      <td>clear sky</td>\n    </tr>\n    <tr>\n      <th>559</th>\n      <td>559</td>\n      <td>Saint-Joseph</td>\n      <td>RE</td>\n      <td>-21.3667</td>\n      <td>55.6167</td>\n      <td>78.80</td>\n      <td>78</td>\n      <td>90</td>\n      <td>4.61</td>\n      <td>light rain</td>\n    </tr>\n  </tbody>\n</table>\n<p>222 rows × 10 columns</p>\n</div>"
     },
     "metadata": {},
     "execution_count": 9
    }
   ],
   "source": [
    "# 4b. Drop any empty rows and create a new DataFrame that doesn’t have empty rows.\n",
    "preferred_cities_df.dropna()"
   ]
  },
  {
   "cell_type": "code",
   "execution_count": 10,
   "metadata": {},
   "outputs": [
    {
     "output_type": "execute_result",
     "data": {
      "text/plain": [
       "              City Country  Max Temp Current Description      Lat       Lng  \\\n",
       "0      Grand-Santi      GF     85.46     overcast clouds   4.2500  -54.3833   \n",
       "1          Teguise      ES     75.20          few clouds  29.0605  -13.5640   \n",
       "4       Sao Filipe      CV     77.52           clear sky  14.8961  -24.4956   \n",
       "5        Mahebourg      MU     80.60          light rain -20.4081   57.7000   \n",
       "6       Butaritari      KI     81.00          light rain   3.0707  172.7902   \n",
       "11      Banyuwangi      ID     76.15          few clouds  -8.2325  114.3576   \n",
       "23          Labrea      BR     86.05     overcast clouds  -7.2586  -64.7981   \n",
       "26  Port Elizabeth      ZA     71.60           clear sky -33.9180   25.5701   \n",
       "27          Atuona      PF     79.81          light rain  -9.8000 -139.0333   \n",
       "28         Rikitea      PF     78.10           clear sky -23.1203 -134.9692   \n",
       "\n",
       "   Hotel Name  \n",
       "0              \n",
       "1              \n",
       "4              \n",
       "5              \n",
       "6              \n",
       "11             \n",
       "23             \n",
       "26             \n",
       "27             \n",
       "28             "
      ],
      "text/html": "<div>\n<style scoped>\n    .dataframe tbody tr th:only-of-type {\n        vertical-align: middle;\n    }\n\n    .dataframe tbody tr th {\n        vertical-align: top;\n    }\n\n    .dataframe thead th {\n        text-align: right;\n    }\n</style>\n<table border=\"1\" class=\"dataframe\">\n  <thead>\n    <tr style=\"text-align: right;\">\n      <th></th>\n      <th>City</th>\n      <th>Country</th>\n      <th>Max Temp</th>\n      <th>Current Description</th>\n      <th>Lat</th>\n      <th>Lng</th>\n      <th>Hotel Name</th>\n    </tr>\n  </thead>\n  <tbody>\n    <tr>\n      <th>0</th>\n      <td>Grand-Santi</td>\n      <td>GF</td>\n      <td>85.46</td>\n      <td>overcast clouds</td>\n      <td>4.2500</td>\n      <td>-54.3833</td>\n      <td></td>\n    </tr>\n    <tr>\n      <th>1</th>\n      <td>Teguise</td>\n      <td>ES</td>\n      <td>75.20</td>\n      <td>few clouds</td>\n      <td>29.0605</td>\n      <td>-13.5640</td>\n      <td></td>\n    </tr>\n    <tr>\n      <th>4</th>\n      <td>Sao Filipe</td>\n      <td>CV</td>\n      <td>77.52</td>\n      <td>clear sky</td>\n      <td>14.8961</td>\n      <td>-24.4956</td>\n      <td></td>\n    </tr>\n    <tr>\n      <th>5</th>\n      <td>Mahebourg</td>\n      <td>MU</td>\n      <td>80.60</td>\n      <td>light rain</td>\n      <td>-20.4081</td>\n      <td>57.7000</td>\n      <td></td>\n    </tr>\n    <tr>\n      <th>6</th>\n      <td>Butaritari</td>\n      <td>KI</td>\n      <td>81.00</td>\n      <td>light rain</td>\n      <td>3.0707</td>\n      <td>172.7902</td>\n      <td></td>\n    </tr>\n    <tr>\n      <th>11</th>\n      <td>Banyuwangi</td>\n      <td>ID</td>\n      <td>76.15</td>\n      <td>few clouds</td>\n      <td>-8.2325</td>\n      <td>114.3576</td>\n      <td></td>\n    </tr>\n    <tr>\n      <th>23</th>\n      <td>Labrea</td>\n      <td>BR</td>\n      <td>86.05</td>\n      <td>overcast clouds</td>\n      <td>-7.2586</td>\n      <td>-64.7981</td>\n      <td></td>\n    </tr>\n    <tr>\n      <th>26</th>\n      <td>Port Elizabeth</td>\n      <td>ZA</td>\n      <td>71.60</td>\n      <td>clear sky</td>\n      <td>-33.9180</td>\n      <td>25.5701</td>\n      <td></td>\n    </tr>\n    <tr>\n      <th>27</th>\n      <td>Atuona</td>\n      <td>PF</td>\n      <td>79.81</td>\n      <td>light rain</td>\n      <td>-9.8000</td>\n      <td>-139.0333</td>\n      <td></td>\n    </tr>\n    <tr>\n      <th>28</th>\n      <td>Rikitea</td>\n      <td>PF</td>\n      <td>78.10</td>\n      <td>clear sky</td>\n      <td>-23.1203</td>\n      <td>-134.9692</td>\n      <td></td>\n    </tr>\n  </tbody>\n</table>\n</div>"
     },
     "metadata": {},
     "execution_count": 10
    }
   ],
   "source": [
    "# 5a. Create DataFrame called hotel_df to store hotel names along with city, country, max temp, and coordinates.\n",
    "hotel_df = preferred_cities_df[[\"City\", \"Country\", \"Max Temp\", \"Current Description\", \"Lat\", \"Lng\"]].copy()\n",
    "\n",
    "# 5b. Create a new column \"Hotel Name\"\n",
    "hotel_df[\"Hotel Name\"] = \"\"\n",
    "hotel_df.head(10)"
   ]
  },
  {
   "cell_type": "code",
   "execution_count": 15,
   "metadata": {
    "tags": []
   },
   "outputs": [
    {
     "output_type": "stream",
     "name": "stdout",
     "text": [
      "Hotel not found... skipping.\n",
      "Hotel not found... skipping.\n",
      "Hotel not found... skipping.\n",
      "Hotel not found... skipping.\n",
      "Hotel not found... skipping.\n",
      "Hotel not found... skipping.\n",
      "Hotel not found... skipping.\n",
      "Hotel not found... skipping.\n",
      "Hotel not found... skipping.\n",
      "Hotel not found... skipping.\n",
      "Hotel not found... skipping.\n",
      "Hotel not found... skipping.\n",
      "Hotel not found... skipping.\n",
      "Hotel not found... skipping.\n",
      "Hotel not found... skipping.\n",
      "Hotel not found... skipping.\n"
     ]
    }
   ],
   "source": [
    "# 6a. Set parameters to search for hotels with 5000 meters.\n",
    "params = {\n",
    "    \"radius\": 5000,\n",
    "    \"type\": \"lodging\",\n",
    "    \"key\": g_key\n",
    "}\n",
    "\n",
    "# 6b. Iterate through the hotel DataFrame.\n",
    "for index, row in hotel_df.iterrows():\n",
    "    # 6c. Get latitude and longitude from DataFrame\n",
    "    lat = row[\"Lat\"]\n",
    "    lng = row[\"Lng\"]\n",
    "\n",
    "    # Add the latitude and longitude to location key for the params dictionary.\n",
    "    params[\"location\"] = f\"{lat},{lng}\"\n",
    "   \n",
    "    # 6d. Set up the base URL for the Google Directions API to get JSON data.\n",
    "    base_url = \"https://maps.googleapis.com/maps/api/place/nearbysearch/json\"\n",
    "\n",
    "    # 6e. Make request and retrieve the JSON data from the search. \n",
    "    hotels = requests.get(base_url, params=params).json()\n",
    "    \n",
    "    # 6f. Get the first hotel from the results and store the name, if a hotel isn't found skip the city.\n",
    "    try:\n",
    "        hotel_df.loc[index, \"Hotel Name\"] = hotels[\"results\"][0][\"name\"]\n",
    "    except (IndexError):\n",
    "        print(\"Hotel not found... skipping.\")\n",
    "    \n",
    "        "
   ]
  },
  {
   "cell_type": "code",
   "execution_count": 16,
   "metadata": {},
   "outputs": [
    {
     "output_type": "execute_result",
     "data": {
      "text/plain": [
       "          City Country  Max Temp Current Description      Lat       Lng  \\\n",
       "0  Grand-Santi      GF     85.46     overcast clouds   4.2500  -54.3833   \n",
       "1      Teguise      ES     75.20          few clouds  29.0605  -13.5640   \n",
       "4   Sao Filipe      CV     77.52           clear sky  14.8961  -24.4956   \n",
       "5    Mahebourg      MU     80.60          light rain -20.4081   57.7000   \n",
       "6   Butaritari      KI     81.00          light rain   3.0707  172.7902   \n",
       "\n",
       "                           Hotel Name  \n",
       "0              Hotel La Villa Couacou  \n",
       "1            B&B La Casona de Nazaret  \n",
       "4                         Tortuga B&B  \n",
       "5  Shandrani Beachcomber Resort & Spa  \n",
       "6                  Isles Sunset Lodge  "
      ],
      "text/html": "<div>\n<style scoped>\n    .dataframe tbody tr th:only-of-type {\n        vertical-align: middle;\n    }\n\n    .dataframe tbody tr th {\n        vertical-align: top;\n    }\n\n    .dataframe thead th {\n        text-align: right;\n    }\n</style>\n<table border=\"1\" class=\"dataframe\">\n  <thead>\n    <tr style=\"text-align: right;\">\n      <th></th>\n      <th>City</th>\n      <th>Country</th>\n      <th>Max Temp</th>\n      <th>Current Description</th>\n      <th>Lat</th>\n      <th>Lng</th>\n      <th>Hotel Name</th>\n    </tr>\n  </thead>\n  <tbody>\n    <tr>\n      <th>0</th>\n      <td>Grand-Santi</td>\n      <td>GF</td>\n      <td>85.46</td>\n      <td>overcast clouds</td>\n      <td>4.2500</td>\n      <td>-54.3833</td>\n      <td>Hotel La Villa Couacou</td>\n    </tr>\n    <tr>\n      <th>1</th>\n      <td>Teguise</td>\n      <td>ES</td>\n      <td>75.20</td>\n      <td>few clouds</td>\n      <td>29.0605</td>\n      <td>-13.5640</td>\n      <td>B&amp;B La Casona de Nazaret</td>\n    </tr>\n    <tr>\n      <th>4</th>\n      <td>Sao Filipe</td>\n      <td>CV</td>\n      <td>77.52</td>\n      <td>clear sky</td>\n      <td>14.8961</td>\n      <td>-24.4956</td>\n      <td>Tortuga B&amp;B</td>\n    </tr>\n    <tr>\n      <th>5</th>\n      <td>Mahebourg</td>\n      <td>MU</td>\n      <td>80.60</td>\n      <td>light rain</td>\n      <td>-20.4081</td>\n      <td>57.7000</td>\n      <td>Shandrani Beachcomber Resort &amp; Spa</td>\n    </tr>\n    <tr>\n      <th>6</th>\n      <td>Butaritari</td>\n      <td>KI</td>\n      <td>81.00</td>\n      <td>light rain</td>\n      <td>3.0707</td>\n      <td>172.7902</td>\n      <td>Isles Sunset Lodge</td>\n    </tr>\n  </tbody>\n</table>\n</div>"
     },
     "metadata": {},
     "execution_count": 16
    }
   ],
   "source": [
    "hotel_df.head()"
   ]
  },
  {
   "cell_type": "code",
   "execution_count": 17,
   "metadata": {},
   "outputs": [
    {
     "output_type": "execute_result",
     "data": {
      "text/plain": [
       "             City Country  Max Temp Current Description      Lat       Lng  \\\n",
       "0     Grand-Santi      GF     85.46     overcast clouds   4.2500  -54.3833   \n",
       "1         Teguise      ES     75.20          few clouds  29.0605  -13.5640   \n",
       "4      Sao Filipe      CV     77.52           clear sky  14.8961  -24.4956   \n",
       "5       Mahebourg      MU     80.60          light rain -20.4081   57.7000   \n",
       "6      Butaritari      KI     81.00          light rain   3.0707  172.7902   \n",
       "..            ...     ...       ...                 ...      ...       ...   \n",
       "550        Touros      BR     87.80       broken clouds  -5.1989  -35.4608   \n",
       "551         Nizwa      OM     85.03       broken clouds  22.9333   57.5333   \n",
       "553      Mwandiga      TZ     76.15          light rain  -4.8300   29.6581   \n",
       "557         Asyut      EG     71.60           clear sky  27.1810   31.1837   \n",
       "559  Saint-Joseph      RE     78.80          light rain -21.3667   55.6167   \n",
       "\n",
       "                             Hotel Name  \n",
       "0                Hotel La Villa Couacou  \n",
       "1              B&B La Casona de Nazaret  \n",
       "4                           Tortuga B&B  \n",
       "5    Shandrani Beachcomber Resort & Spa  \n",
       "6                    Isles Sunset Lodge  \n",
       "..                                  ...  \n",
       "550                     INN NEW HORIZON  \n",
       "551                   Orient Apartments  \n",
       "553                           One Point  \n",
       "557               Florence Hotel Assiut  \n",
       "559       \"Plantation Bed and Breakfast  \n",
       "\n",
       "[222 rows x 7 columns]"
      ],
      "text/html": "<div>\n<style scoped>\n    .dataframe tbody tr th:only-of-type {\n        vertical-align: middle;\n    }\n\n    .dataframe tbody tr th {\n        vertical-align: top;\n    }\n\n    .dataframe thead th {\n        text-align: right;\n    }\n</style>\n<table border=\"1\" class=\"dataframe\">\n  <thead>\n    <tr style=\"text-align: right;\">\n      <th></th>\n      <th>City</th>\n      <th>Country</th>\n      <th>Max Temp</th>\n      <th>Current Description</th>\n      <th>Lat</th>\n      <th>Lng</th>\n      <th>Hotel Name</th>\n    </tr>\n  </thead>\n  <tbody>\n    <tr>\n      <th>0</th>\n      <td>Grand-Santi</td>\n      <td>GF</td>\n      <td>85.46</td>\n      <td>overcast clouds</td>\n      <td>4.2500</td>\n      <td>-54.3833</td>\n      <td>Hotel La Villa Couacou</td>\n    </tr>\n    <tr>\n      <th>1</th>\n      <td>Teguise</td>\n      <td>ES</td>\n      <td>75.20</td>\n      <td>few clouds</td>\n      <td>29.0605</td>\n      <td>-13.5640</td>\n      <td>B&amp;B La Casona de Nazaret</td>\n    </tr>\n    <tr>\n      <th>4</th>\n      <td>Sao Filipe</td>\n      <td>CV</td>\n      <td>77.52</td>\n      <td>clear sky</td>\n      <td>14.8961</td>\n      <td>-24.4956</td>\n      <td>Tortuga B&amp;B</td>\n    </tr>\n    <tr>\n      <th>5</th>\n      <td>Mahebourg</td>\n      <td>MU</td>\n      <td>80.60</td>\n      <td>light rain</td>\n      <td>-20.4081</td>\n      <td>57.7000</td>\n      <td>Shandrani Beachcomber Resort &amp; Spa</td>\n    </tr>\n    <tr>\n      <th>6</th>\n      <td>Butaritari</td>\n      <td>KI</td>\n      <td>81.00</td>\n      <td>light rain</td>\n      <td>3.0707</td>\n      <td>172.7902</td>\n      <td>Isles Sunset Lodge</td>\n    </tr>\n    <tr>\n      <th>...</th>\n      <td>...</td>\n      <td>...</td>\n      <td>...</td>\n      <td>...</td>\n      <td>...</td>\n      <td>...</td>\n      <td>...</td>\n    </tr>\n    <tr>\n      <th>550</th>\n      <td>Touros</td>\n      <td>BR</td>\n      <td>87.80</td>\n      <td>broken clouds</td>\n      <td>-5.1989</td>\n      <td>-35.4608</td>\n      <td>INN NEW HORIZON</td>\n    </tr>\n    <tr>\n      <th>551</th>\n      <td>Nizwa</td>\n      <td>OM</td>\n      <td>85.03</td>\n      <td>broken clouds</td>\n      <td>22.9333</td>\n      <td>57.5333</td>\n      <td>Orient Apartments</td>\n    </tr>\n    <tr>\n      <th>553</th>\n      <td>Mwandiga</td>\n      <td>TZ</td>\n      <td>76.15</td>\n      <td>light rain</td>\n      <td>-4.8300</td>\n      <td>29.6581</td>\n      <td>One Point</td>\n    </tr>\n    <tr>\n      <th>557</th>\n      <td>Asyut</td>\n      <td>EG</td>\n      <td>71.60</td>\n      <td>clear sky</td>\n      <td>27.1810</td>\n      <td>31.1837</td>\n      <td>Florence Hotel Assiut</td>\n    </tr>\n    <tr>\n      <th>559</th>\n      <td>Saint-Joseph</td>\n      <td>RE</td>\n      <td>78.80</td>\n      <td>light rain</td>\n      <td>-21.3667</td>\n      <td>55.6167</td>\n      <td>\"Plantation Bed and Breakfast</td>\n    </tr>\n  </tbody>\n</table>\n<p>222 rows × 7 columns</p>\n</div>"
     },
     "metadata": {},
     "execution_count": 17
    }
   ],
   "source": [
    "# 7. Drop the rows where there is no Hotel Name.\n",
    "hotel_df.dropna()"
   ]
  },
  {
   "cell_type": "code",
   "execution_count": 21,
   "metadata": {},
   "outputs": [],
   "source": [
    "# 8a. Create the output File (CSV)\n",
    "output_data_file = \"resources/WeatherPy_vacation.csv\"\n",
    "# 8b. Export the City_Data into a csv\n",
    "hotel_df.to_csv(output_data_file, index_label=\"City_ID\")"
   ]
  },
  {
   "cell_type": "code",
   "execution_count": 37,
   "metadata": {},
   "outputs": [],
   "source": [
    "# 9. Using the template add city name, the country code, the weather description and maximum temperature for the city.\n",
    "info_box_template = \"\"\"\n",
    "<dl>\n",
    "<dt>Hotel Name</dt><dd>{Hotel Name}</dd>\n",
    "<dt>City</dt><dd>{City}</dd>\n",
    "<dt>Country</dt><dd>{Country}</dd>\n",
    "<dt>Current Description</dt><dd>{Current Description}</dd>\n",
    "<dt>Max Temp</dt><dd>{Max Temp} °F</dd>\n",
    "</dl>\n",
    "\"\"\"\n",
    "\n",
    "# 10a. Get the data from each row and add it to the formatting template and store the data in a list.\n",
    "hotel_info = [info_box_template.format(**row) for index, row in hotel_df.iterrows()]\n",
    "\n",
    "# 10b. Get the latitude and longitude from each row and store in a new DataFrame.\n",
    "locations = hotel_df[[\"Lat\", \"Lng\"]]"
   ]
  },
  {
   "cell_type": "code",
   "execution_count": 40,
   "metadata": {},
   "outputs": [
    {
     "output_type": "display_data",
     "data": {
      "text/plain": "Figure(layout=FigureLayout(height='420px'))",
      "application/vnd.jupyter.widget-view+json": {
       "version_major": 2,
       "version_minor": 0,
       "model_id": "f197fc5875794ad1a872b84de7a52bc4"
      }
     },
     "metadata": {}
    }
   ],
   "source": [
    "# 11a. Add a marker layer for each city to the map.\n",
    "locations = hotel_df[[\"Lat\", \"Lng\"]]\n",
    "fig = gmaps.figure(center=(30.0, 31.0), zoom_level=2)\n",
    "marker_layer = gmaps.marker_layer(locations, info_box_content=hotel_info)\n",
    "fig.add_layer(marker_layer)\n",
    "# 11b. Display the figure\n",
    "\n",
    "fig"
   ]
  },
  {
   "cell_type": "code",
   "execution_count": null,
   "metadata": {},
   "outputs": [],
   "source": []
  },
  {
   "cell_type": "code",
   "execution_count": null,
   "metadata": {},
   "outputs": [],
   "source": []
  }
 ],
 "metadata": {
  "kernelspec": {
   "display_name": "PythonData",
   "language": "python",
   "name": "pythondata"
  },
  "language_info": {
   "codemirror_mode": {
    "name": "ipython",
    "version": 3
   },
   "file_extension": ".py",
   "mimetype": "text/x-python",
   "name": "python",
   "nbconvert_exporter": "python",
   "pygments_lexer": "ipython3",
   "version": "3.7.9-final"
  },
  "latex_envs": {
   "LaTeX_envs_menu_present": true,
   "autoclose": false,
   "autocomplete": true,
   "bibliofile": "biblio.bib",
   "cite_by": "apalike",
   "current_citInitial": 1,
   "eqLabelWithNumbers": true,
   "eqNumInitial": 1,
   "hotkeys": {
    "equation": "Ctrl-E",
    "itemize": "Ctrl-I"
   },
   "labels_anchors": false,
   "latex_user_defs": false,
   "report_style_numbering": false,
   "user_envs_cfg": false
  }
 },
 "nbformat": 4,
 "nbformat_minor": 2
}